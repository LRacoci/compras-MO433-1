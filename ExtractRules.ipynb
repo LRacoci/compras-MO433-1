{
  "nbformat": 4,
  "nbformat_minor": 0,
  "metadata": {
    "colab": {
      "name": "Example of arules in R in colab.ipynb",
      "provenance": [],
      "authorship_tag": "ABX9TyOe/ya2TLGVjAfzSNMqysIm",
      "include_colab_link": true
    },
    "kernelspec": {
      "name": "ir",
      "display_name": "R"
    },
    "language_info": {
      "name": "R"
    }
  },
  "cells": [
    {
      "cell_type": "markdown",
      "metadata": {
        "id": "view-in-github",
        "colab_type": "text"
      },
      "source": [
        "<a href=\"https://colab.research.google.com/github/LRacoci/compras-MO433-1/blob/main/ExtractRules.ipynb\" target=\"_parent\"><img src=\"https://colab.research.google.com/assets/colab-badge.svg\" alt=\"Open In Colab\"/></a>"
      ]
    },
    {
      "cell_type": "code",
      "metadata": {
        "colab": {
          "base_uri": "https://localhost:8080/"
        },
        "id": "iR9Fw0TCQLoH",
        "outputId": "d5a4a1f9-0ab8-4263-9a58-8b0f2fed2b6b"
      },
      "source": [
        "install.packages(\"arules\")\n",
        "\n",
        "library(\"arules\")\n",
        "data(\"Adult\")\n",
        "\n",
        "rules <- apriori(Adult, parameter = list(supp = 0.5, conf = 0.9, target = \"rules\"))"
      ],
      "execution_count": 3,
      "outputs": [
        {
          "output_type": "stream",
          "name": "stderr",
          "text": [
            "Installing package into ‘/usr/local/lib/R/site-library’\n",
            "(as ‘lib’ is unspecified)\n",
            "\n",
            "Loading required package: Matrix\n",
            "\n",
            "\n",
            "Attaching package: ‘arules’\n",
            "\n",
            "\n",
            "The following objects are masked from ‘package:base’:\n",
            "\n",
            "    abbreviate, write\n",
            "\n",
            "\n"
          ]
        },
        {
          "output_type": "stream",
          "name": "stdout",
          "text": [
            "Apriori\n",
            "\n",
            "Parameter specification:\n",
            " confidence minval smax arem  aval originalSupport maxtime support minlen\n",
            "        0.9    0.1    1 none FALSE            TRUE       5     0.5      1\n",
            " maxlen target  ext\n",
            "     10  rules TRUE\n",
            "\n",
            "Algorithmic control:\n",
            " filter tree heap memopt load sort verbose\n",
            "    0.1 TRUE TRUE  FALSE TRUE    2    TRUE\n",
            "\n",
            "Absolute minimum support count: 24421 \n",
            "\n",
            "set item appearances ...[0 item(s)] done [0.00s].\n",
            "set transactions ...[115 item(s), 48842 transaction(s)] done [0.04s].\n",
            "sorting and recoding items ... [9 item(s)] done [0.00s].\n",
            "creating transaction tree ... done [0.02s].\n",
            "checking subsets of size 1 2 3 4 done [0.00s].\n",
            "writing ... [52 rule(s)] done [0.00s].\n",
            "creating S4 object  ... done [0.00s].\n"
          ]
        }
      ]
    }
  ]
}